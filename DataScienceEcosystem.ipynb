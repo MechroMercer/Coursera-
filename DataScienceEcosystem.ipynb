{
 "cells": [
  {
   "cell_type": "markdown",
   "id": "c91530d4-d94b-4c2e-a4af-09bc7bf8961c",
   "metadata": {},
   "source": [
    "# Data Science Tools and Ecosystem"
   ]
  },
  {
   "cell_type": "markdown",
   "id": "7ee9669e-df4e-429c-a65c-6c8ae83773a4",
   "metadata": {},
   "source": [
    "In this notebook, Data Science Tools and Ecosystem are summarized."
   ]
  },
  {
   "cell_type": "markdown",
   "id": "8c5d0885-8d10-4e51-b6e2-5b5b14f52846",
   "metadata": {},
   "source": [
    "Some of the popular languages that Data Scientists use are:\n",
    "1. Python\n",
    "1. R\n",
    "1. SQL"
   ]
  },
  {
   "cell_type": "markdown",
   "id": "e47bb96a-ed97-4d64-9404-ba23bc7f1182",
   "metadata": {},
   "source": [
    "Some of the commonly used libraries used by Data Scientists include:\n",
    "1. pandas\n",
    "1. matplotlib\n",
    "1. numpy\n",
    "1. sckit-learn\n",
    "1. plotly"
   ]
  },
  {
   "cell_type": "markdown",
   "id": "b1de3c95-ec9a-45a3-92d1-158d489e1666",
   "metadata": {},
   "source": [
    "| Data Science Tools| \n",
    "| ------------------| \n",
    "| JupyterLab        | \n",
    "| Visual Studio Code| \n",
    "| Anaconda          |"
   ]
  },
  {
   "cell_type": "markdown",
   "id": "8f72530d-3111-4491-86ff-a2d16dcbeac6",
   "metadata": {},
   "source": [
    "### Below are a few examples of evaluating arithmetic expressions in Python"
   ]
  },
  {
   "cell_type": "code",
   "execution_count": 5,
   "id": "8a14c220-d781-4cbb-8818-6301c35ac0e9",
   "metadata": {},
   "outputs": [
    {
     "data": {
      "text/plain": [
       "17"
      ]
     },
     "execution_count": 5,
     "metadata": {},
     "output_type": "execute_result"
    }
   ],
   "source": [
    "# This a simple arithmetic expression to multiply then add integers\n",
    "(3*4)+5"
   ]
  },
  {
   "cell_type": "code",
   "execution_count": 6,
   "id": "ebe5f773-89aa-4a1b-82c0-296f8444802a",
   "metadata": {},
   "outputs": [
    {
     "data": {
      "text/plain": [
       "3.3333333333333335"
      ]
     },
     "execution_count": 6,
     "metadata": {},
     "output_type": "execute_result"
    }
   ],
   "source": [
    "#  This will convert 200 minutes to hours by diving by 60\n",
    "(200 / 60)"
   ]
  },
  {
   "cell_type": "markdown",
   "id": "679b6510-26c0-4337-b844-0119973be8a8",
   "metadata": {},
   "source": [
    "**Objectives:**\n",
    "- List popular languages for Data Science\n",
    "- List popular libraries for Data Science\n",
    "- List popular tools for Data Science"
   ]
  },
  {
   "cell_type": "markdown",
   "id": "c25bad7f-4d28-4981-95d9-9340d686b694",
   "metadata": {},
   "source": [
    "## Author\n",
    "Maksymilian Trybała"
   ]
  },
  {
   "cell_type": "code",
   "execution_count": null,
   "id": "74b155f3-3c16-4907-a153-569855ec6e32",
   "metadata": {},
   "outputs": [],
   "source": []
  }
 ],
 "metadata": {
  "kernelspec": {
   "display_name": "Python 3 (ipykernel)",
   "language": "python",
   "name": "python3"
  },
  "language_info": {
   "codemirror_mode": {
    "name": "ipython",
    "version": 3
   },
   "file_extension": ".py",
   "mimetype": "text/x-python",
   "name": "python",
   "nbconvert_exporter": "python",
   "pygments_lexer": "ipython3",
   "version": "3.12.8"
  }
 },
 "nbformat": 4,
 "nbformat_minor": 5
}
